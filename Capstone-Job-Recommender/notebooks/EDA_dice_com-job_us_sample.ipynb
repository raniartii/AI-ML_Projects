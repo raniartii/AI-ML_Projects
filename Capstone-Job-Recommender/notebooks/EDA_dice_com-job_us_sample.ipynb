{
 "cells": [
  {
   "cell_type": "markdown",
   "id": "89e19876",
   "metadata": {},
   "source": [
    "1. Loading Dataset"
   ]
  },
  {
   "cell_type": "code",
   "execution_count": 2,
   "id": "cc9b6742",
   "metadata": {},
   "outputs": [
    {
     "name": "stdout",
     "output_type": "stream",
     "text": [
      "Dataset loaded successfully.\n",
      "\n",
      "Column list:\n",
      "['company', 'employmenttype_jobstatus', 'jobdescription', 'joblocation_address', 'jobtitle', 'postdate', 'skills'] \n",
      "\n",
      "           company                          employmenttype_jobstatus  \\\n",
      "0  JetBlue Airways                                         Full Time   \n",
      "1  JetBlue Airways                                         Full Time   \n",
      "2     Infosoft Inc  Full Time, Contract Independent, C2H Independent   \n",
      "3     Infosoft Inc  Full Time, Contract Independent, C2H Independent   \n",
      "4     Calsoft Labs                            Contract W2, 4+ Months   \n",
      "\n",
      "                                      jobdescription joblocation_address  \\\n",
      "0  ______________________________________________...          Queens, NY   \n",
      "1  ______________________________________________...          Queens, NY   \n",
      "2  ______________________________________________...          Gilroy, CA   \n",
      "3  ______________________________________________...            Any City   \n",
      "4  _______________Pls share resume at vinod.kumar...       San Diego, CA   \n",
      "\n",
      "                                            jobtitle     postdate  \\\n",
      "0                                Lead Java Developer  2 weeks ago   \n",
      "1                                Lead Java Developer  2 weeks ago   \n",
      "2           Staffing - Business Development Managers   3 days ago   \n",
      "3  Recruiters for US Staffing (Work from Home any...  5 hours ago   \n",
      "4                                    Program Analyst  2 weeks ago   \n",
      "\n",
      "                                              skills  \n",
      "0  Lead, RESTful, JSON, XML, SOAP web service, J2...  \n",
      "1  Lead, RESTful, JSON, XML, SOAP web service, J2...  \n",
      "2  Recruiter MSP VMS Staffing Sourcing Sourcer Re...  \n",
      "3  Recruiter MSP VMS Staffing Sourcing Sourcer Re...  \n",
      "4  AtTask or MS Excel (macros, charting and pivot...  \n"
     ]
    }
   ],
   "source": [
    "import pandas as pd\n",
    "from pathlib import Path\n",
    "%run ./hidden.ipynb\n",
    "\n",
    "\n",
    "# Load your dataset\n",
    "df_d = pd.read_csv(datasets_folder_path/\"raw/dice_com-job_us_sample.csv\")\n",
    "print(\"Dataset loaded successfully.\")\n",
    "\n",
    "# Display only column names\n",
    "print(\"\\nColumn list:\")\n",
    "print(list(df_d.columns), \"\\n\")\n",
    "\n",
    "# Quick preview\n",
    "print(df_d.head())    "
   ]
  },
  {
   "cell_type": "markdown",
   "id": "5669e912",
   "metadata": {},
   "source": [
    "2. Basic Inspection for Dataset"
   ]
  },
  {
   "cell_type": "markdown",
   "id": "4d802ef8",
   "metadata": {},
   "source": [
    "Step 2.0 Dataframe Shape & Missing Summary"
   ]
  },
  {
   "cell_type": "code",
   "execution_count": 3,
   "id": "2925eb96",
   "metadata": {},
   "outputs": [
    {
     "name": "stdout",
     "output_type": "stream",
     "text": [
      "Shape (rows, cols): (22000, 7) \n",
      "\n",
      "Data types:\n",
      "company                     object\n",
      "employmenttype_jobstatus    object\n",
      "jobdescription              object\n",
      "joblocation_address         object\n",
      "jobtitle                    object\n",
      "postdate                    object\n",
      "skills                      object\n",
      "dtype: object \n",
      "\n",
      "Missingness summary (top 12):\n",
      "                          num_missing  pct_missing\n",
      "employmenttype_jobstatus          230       0.0105\n",
      "company                            50       0.0023\n",
      "skills                             43       0.0020\n",
      "joblocation_address                 3       0.0001\n",
      "jobdescription                      0       0.0000\n",
      "jobtitle                            0       0.0000\n",
      "postdate                            0       0.0000 \n",
      "\n",
      "Fully duplicated rows: 646\n"
     ]
    }
   ],
   "source": [
    "# Shape of the DataFrame\n",
    "print(\"Shape (rows, cols):\", df_d.shape, \"\\n\")\n",
    "\n",
    "# Data types of each column\n",
    "print(\"Data types:\")\n",
    "print(df_d.dtypes, \"\\n\")\n",
    "\n",
    "# Missingness summary (count + percent)\n",
    "missing_summary = (\n",
    "    df_d.isna()\n",
    "      .sum()\n",
    "      .to_frame(name=\"num_missing\")\n",
    "      .assign(pct_missing=lambda x: (x[\"num_missing\"] / len(df_d)).round(4))\n",
    "      .sort_values(\"pct_missing\", ascending=False)\n",
    ")\n",
    "print(\"Missingness summary (top 12):\")\n",
    "print(missing_summary.head(12), \"\\n\")\n",
    "\n",
    "# Fully duplicate rows\n",
    "print(\"Fully duplicated rows:\", df_d.duplicated().sum())"
   ]
  },
  {
   "cell_type": "markdown",
   "id": "cafa919e",
   "metadata": {},
   "source": [
    "Step 2.1 — Unique values distribution (jobdescription, jobtitle, skills)"
   ]
  },
  {
   "cell_type": "code",
   "execution_count": 4,
   "id": "6c4b6c75",
   "metadata": {},
   "outputs": [
    {
     "name": "stdout",
     "output_type": "stream",
     "text": [
      "\n",
      "=== jobtitle ===\n",
      "Unique categories: 15242\n",
      "\n",
      "Top 20 frequencies:\n",
      "jobtitle\n",
      "Java Developer                                 174\n",
      "Project Manager                                145\n",
      "Network Engineer                               128\n",
      "Software Engineer                              118\n",
      "Business Analyst                               117\n",
      ".Net Developer                                  70\n",
      "DevOps Engineer                                 60\n",
      "Systems Engineer                                55\n",
      "Systems Administrator                           54\n",
      "Web Developer                                   53\n",
      "Senior Software Engineer                        51\n",
      "Technical Writer                                49\n",
      "Business Systems Analyst                        46\n",
      "Software Developer                              45\n",
      "Android Developer                               42\n",
      "Senior Network Engineer                         42\n",
      "Senior Java Developer                           41\n",
      "Data Analyst                                    41\n",
      "Robert Half Technology Account Executive CS     39\n",
      ".NET Developer                                  38\n",
      "\n",
      "Singleton categories (appear exactly once): 13024\n",
      "\n",
      "=== employmenttype_jobstatus ===\n",
      "Unique categories: 2928\n",
      "\n",
      "Top 20 frequencies:\n",
      "employmenttype_jobstatus\n",
      "Full Time                                                                                                                    6734\n",
      "Contract W2                                                                                                                  1102\n",
      "Contract Corp-To-Corp, Contract Independent, Contract W2                                                                      629\n",
      "Full Time, Full Time                                                                                                          617\n",
      "Contract Corp-To-Corp, Contract Independent, Contract W2, C2H Corp-To-Corp, C2H Independent, C2H W2                           479\n",
      "Full Time, Permanent                                                                                                          367\n",
      "Full Time, Full-time, Employee                                                                                                331\n",
      "C2H W2                                                                                                                        302\n",
      "Contract Corp-To-Corp                                                                                                         265\n",
      "nan                                                                                                                           230\n",
      "Contract Corp-To-Corp, Contract W2                                                                                            206\n",
      "Full Time, Contract Corp-To-Corp, Contract Independent, Contract W2, C2H Corp-To-Corp, C2H Independent, C2H W2                182\n",
      "Contract Independent, Contract W2                                                                                             178\n",
      "Full Time, Perm                                                                                                               177\n",
      "Full Time, Full-time                                                                                                          156\n",
      "Full Time, Contract Corp-To-Corp, Contract Independent, Contract W2, C2H Corp-To-Corp, C2H Independent, C2H W2, Part Time     149\n",
      "C2H Corp-To-Corp, C2H Independent, C2H W2                                                                                     118\n",
      "Contract W2, Temp                                                                                                             117\n",
      "Full Time, Contract W2                                                                                                        113\n",
      "Full Time, Temporary                                                                                                          110\n",
      "\n",
      "Singleton categories (appear exactly once): 1826\n",
      "\n",
      "=== company ===\n",
      "Unique categories: 4292\n",
      "\n",
      "Top 20 frequencies:\n",
      "company\n",
      "CyberCoders                 335\n",
      "Amazon                      263\n",
      "Robert Half                 249\n",
      "Robert Half Technology      247\n",
      "U.S. Tech Solutions Inc.    188\n",
      "Collabera                   178\n",
      "Visionaire Partners         171\n",
      "Kforce Inc.                 161\n",
      "The Judge Group             157\n",
      "Apex Systems, Inc           151\n",
      "Net2Source Inc.             139\n",
      "Modis                       139\n",
      "Deloitte                    138\n",
      "Randstad Technologies       132\n",
      "TEKsystems, Inc.            108\n",
      "NORTHROP GRUMMAN             95\n",
      "RSM US                       92\n",
      "Maxonic, Inc.                92\n",
      "Experis                      84\n",
      "Access Staffing              83\n",
      "\n",
      "Singleton categories (appear exactly once): 1614\n"
     ]
    }
   ],
   "source": [
    "# STEP 2.1 — Unique value distributions for Dice.com dataset\n",
    "target_cols = [\"jobtitle\", \"employmenttype_jobstatus\", \"company\"]\n",
    "\n",
    "for col in target_cols:\n",
    "    if col not in df_d.columns:\n",
    "        print(f\"[WARN] Column missing: {col}\")\n",
    "        continue\n",
    "    \n",
    "    s = df_d[col].astype(str).str.strip()\n",
    "    n_unique = s.nunique(dropna=True)\n",
    "    print(f\"\\n=== {col} ===\")\n",
    "    print(f\"Unique categories: {n_unique}\")\n",
    "    \n",
    "    # Frequency table (top 20)\n",
    "    vc = s.value_counts(dropna=False)\n",
    "    print(\"\\nTop 20 frequencies:\")\n",
    "    print(vc.head(20).to_string())\n",
    "    \n",
    "    # Singleton categories\n",
    "    singletons = (vc == 1).sum()\n",
    "    print(f\"\\nSingleton categories (appear exactly once): {singletons}\")"
   ]
  },
  {
   "cell_type": "markdown",
   "id": "8fd21fd3",
   "metadata": {},
   "source": [
    "Step 2.2 — Duplicates in “signal columns” (jobdescription, jobtitle, skills)"
   ]
  },
  {
   "cell_type": "markdown",
   "id": "8e1d0072",
   "metadata": {},
   "source": [
    "1. detect duplicate rows where all three (jobdescription, jobtitle, skills) match,\n",
    "2. show a readable sample of duplicate groups, and\n",
    "3. remove those duplicates from df_d."
   ]
  },
  {
   "cell_type": "markdown",
   "id": "e0c5ba73",
   "metadata": {},
   "source": [
    "0) Setup (load once)"
   ]
  },
  {
   "cell_type": "code",
   "execution_count": 5,
   "id": "fdab2764",
   "metadata": {},
   "outputs": [
    {
     "name": "stdout",
     "output_type": "stream",
     "text": [
      "                                      jobdescription  \\\n",
      "0  ______________________________________________...   \n",
      "1  ______________________________________________...   \n",
      "2  ______________________________________________...   \n",
      "3  ______________________________________________...   \n",
      "4  _______________Pls share resume at vinod.kumar...   \n",
      "\n",
      "                                            jobtitle  \\\n",
      "0                                Lead Java Developer   \n",
      "1                                Lead Java Developer   \n",
      "2           Staffing - Business Development Managers   \n",
      "3  Recruiters for US Staffing (Work from Home any...   \n",
      "4                                    Program Analyst   \n",
      "\n",
      "                                              skills  \n",
      "0  Lead, RESTful, JSON, XML, SOAP web service, J2...  \n",
      "1  Lead, RESTful, JSON, XML, SOAP web service, J2...  \n",
      "2  Recruiter MSP VMS Staffing Sourcing Sourcer Re...  \n",
      "3  Recruiter MSP VMS Staffing Sourcing Sourcer Re...  \n",
      "4  AtTask or MS Excel (macros, charting and pivot...  \n"
     ]
    }
   ],
   "source": [
    "import pandas as pd\n",
    "\n",
    "df_d = pd.read_csv(datasets_folder_path / \"raw\" / \"dice_com-job_us_sample.csv\", low_memory=False)\n",
    "\n",
    "signal_cols = [\"jobdescription\", \"jobtitle\", \"skills\"]\n",
    "\n",
    "# Build normalized keys for duplicate detection (trim only; keep case to avoid over-merging)\n",
    "key_df = df_d[signal_cols].astype(str).apply(lambda s: s.str.strip())\n",
    "print(key_df.head())"
   ]
  },
  {
   "cell_type": "markdown",
   "id": "4a3ebdd3",
   "metadata": {},
   "source": [
    "1) Detect duplicates (counts + groups)"
   ]
  },
  {
   "cell_type": "code",
   "execution_count": 6,
   "id": "3cca4b51",
   "metadata": {},
   "outputs": [
    {
     "name": "stdout",
     "output_type": "stream",
     "text": [
      "=== Duplicate Analysis (jobdescription, jobtitle, skills) ===\n",
      "Total rows: 22000\n",
      "Duplicate rows (same triplet): 2694\n",
      "Rows after dropping duplicates: 20594\n",
      "Percent rows removed by collapsing: 6.39%\n",
      "Total duplicate rows extracted: 2694\n",
      "                      company                       employmenttype_jobstatus  \\\n",
      "0             JetBlue Airways                                      Full Time   \n",
      "1             JetBlue Airways                                      Full Time   \n",
      "20  Capital Markets Placement                           Full Time, Full Time   \n",
      "21  Capital Markets Placement                           Full Time, Full Time   \n",
      "37                  MSYS Inc.  Contract Corp-To-Corp, Contract W2, Long Term   \n",
      "38                  MSYS Inc.  Contract Corp-To-Corp, Contract W2, Long Term   \n",
      "56         TechLink Resources                          Contract W2, contract   \n",
      "57         TechLink Resources                          Contract W2, contract   \n",
      "64           Adroit Resources             Contract Corp-To-Corp, Contract W2   \n",
      "65           Adroit Resources             Contract Corp-To-Corp, Contract W2   \n",
      "\n",
      "                                       jobdescription joblocation_address  \\\n",
      "0   ______________________________________________...          Queens, NY   \n",
      "1   ______________________________________________...          Queens, NY   \n",
      "20  - Mentor, coach and lead other developers in t...          Mclean, VA   \n",
      "21  - Mentor, coach and lead other developers in t...          Mclean, VA   \n",
      "37  ----------------------We thank you for your in...        Richmond, VA   \n",
      "38  ----------------------We thank you for your in...        Richmond, VA   \n",
      "56  !!!!!W2 only!!!!Looking for a Drupal Developer...    Santa Monica, CA   \n",
      "57  !!!!!W2 only!!!!Looking for a Drupal Developer...    Santa Monica, CA   \n",
      "64  !!Adroit Resources: Working with great, fast g...   San Francisco, CA   \n",
      "65  !!Adroit Resources: Working with great, fast g...   San Francisco, CA   \n",
      "\n",
      "                                     jobtitle     postdate  \\\n",
      "0                         Lead Java Developer  2 weeks ago   \n",
      "1                         Lead Java Developer  2 weeks ago   \n",
      "20  Senior Full Stack Engineer (Angular/Java)  8 hours ago   \n",
      "21  Senior Full Stack Engineer (Angular/Java)  8 hours ago   \n",
      "37                GIS Analyst - F2F Interview   2 days ago   \n",
      "38                GIS Analyst - F2F Interview   2 days ago   \n",
      "56                           Drupal Developer  6 hours ago   \n",
      "57                           Drupal Developer  6 hours ago   \n",
      "64                DevOps Engineer(only Local)   1 week ago   \n",
      "65                DevOps Engineer(only Local)   1 week ago   \n",
      "\n",
      "                                               skills  \n",
      "0   Lead, RESTful, JSON, XML, SOAP web service, J2...  \n",
      "1   Lead, RESTful, JSON, XML, SOAP web service, J2...  \n",
      "20  Development, Java, JavaScript, NoSQL, Programming  \n",
      "21  Development, Java, JavaScript, NoSQL, Programming  \n",
      "37                                ArcGIS Desktop 10.x  \n",
      "38                                ArcGIS Desktop 10.x  \n",
      "56  Drupal, PHP, Organic Groups, Panels, Panology,...  \n",
      "57  Drupal, PHP, Organic Groups, Panels, Panology,...  \n",
      "64  Scripting (Ruby, Python), Hybrid Cloud Enginee...  \n",
      "65  Scripting (Ruby, Python), Hybrid Cloud Enginee...  \n"
     ]
    }
   ],
   "source": [
    "# Mark all members of duplicate groups (not just the second occurrence)\n",
    "dup_mask_all = key_df.duplicated(keep=False)\n",
    "\n",
    "total_rows = len(df_d)\n",
    "dup_rows = int(dup_mask_all.sum())\n",
    "collapsed_rows = total_rows - (key_df.duplicated(keep=\"first\").sum())\n",
    "collapsed_pct = round(100 * (total_rows - collapsed_rows) / total_rows, 2)\n",
    "\n",
    "print(\"=== Duplicate Analysis (jobdescription, jobtitle, skills) ===\")\n",
    "print(f\"Total rows: {total_rows}\")\n",
    "print(f\"Duplicate rows (same triplet): {dup_rows}\")\n",
    "print(f\"Rows after dropping duplicates: {collapsed_rows}\")\n",
    "print(f\"Percent rows removed by collapsing: {collapsed_pct}%\")\n",
    "\n",
    "# All duplicate rows (for audit)\n",
    "df_dups = df_d.loc[dup_mask_all].copy()\n",
    "print(f\"Total duplicate rows extracted: {len(df_dups)}\")\n",
    "print(df_dups.head(10))"
   ]
  },
  {
   "cell_type": "markdown",
   "id": "8b8299a2",
   "metadata": {},
   "source": [
    "2) Display a clean, readable sample of duplicate groups (no row inflation)"
   ]
  },
  {
   "cell_type": "code",
   "execution_count": 7,
   "id": "a3175ee2",
   "metadata": {},
   "outputs": [
    {
     "name": "stdout",
     "output_type": "stream",
     "text": [
      "=== Sample duplicate groups (formatted, truncated) ===\n",
      "\n",
      "                                 jobtitle                                                                                                                   skills                                  company                                                                                                        employmenttype_jobstatus joblocation_address    postdate                                                                                                           jobdescription\n",
      "                     SAP Ariba Consultant                        SAP Ariba Consultant, SAP Ariba Consulting, SAP Ariba Implementation, Senior SAP Ariba Consultant                               CCP Global Full Time, Contract Corp-To-Corp, Contract Independent, Contract W2, C2H Corp-To-Corp, C2H Independent, C2H W2, Part Time, Perm       Vancouver, BC  4 days ago Join the CCP Global team and experience the difference an innovative boutique Ariba consulting firm can offer! The CCP …\n",
      "                     SAP Ariba Consultant                        SAP Ariba Consultant, SAP Ariba Consulting, SAP Ariba Implementation, Senior SAP Ariba Consultant                               CCP Global Full Time, Contract Corp-To-Corp, Contract Independent, Contract W2, C2H Corp-To-Corp, C2H Independent, C2H W2, Part Time, Perm   New York City, NY  4 days ago Join the CCP Global team and experience the difference an innovative boutique Ariba consulting firm can offer! The CCP …\n",
      "                     SAP Ariba Consultant                        SAP Ariba Consultant, SAP Ariba Consulting, SAP Ariba Implementation, Senior SAP Ariba Consultant                               CCP Global Full Time, Contract Corp-To-Corp, Contract Independent, Contract W2, C2H Corp-To-Corp, C2H Independent, C2H W2, Part Time, Perm         Calgary, AB  4 days ago Join the CCP Global team and experience the difference an innovative boutique Ariba consulting firm can offer! The CCP …\n",
      "      QA Tester with JAVA Linux (w2 only)                                                                                                     QA, Java, Linux, FIX             New York Technology Partners                                                                                                 Contract W2, Long Term Contract   New York City, NY  1 week ago DescriptionHands-on Linux backend experience – executing Linux commands, analyzing log files…Programming experience wit…\n",
      "      QA Tester with JAVA Linux (w2 only)                                                                                                     QA, Java, Linux, FIX             New York Technology Partners                                                                                                                Contract W2, LTE    Philadelphia, PA  1 week ago DescriptionHands-on Linux backend experience – executing Linux commands, analyzing log files…Programming experience wit…\n",
      "      QA Tester with JAVA Linux (w2 only)                                                                                                     QA, Java, Linux, FIX             New York Technology Partners                                                                                                                Contract W2, LTE    Philadelphia, PA  2 days ago DescriptionHands-on Linux backend experience – executing Linux commands, analyzing log files…Programming experience wit…\n",
      "Principal Application Security Consultant secure coding, secure code review, github, evangelist, thought leader, practice leader, principal consultant, applicati…                   Stanley Reid & Company                                                                                                                       Full Time        Bellevue, WA  2 days ago We have been retained by a global leader in Secure Software to fill an incredibly strategic role for them. They are loo…\n",
      "Principal Application Security Consultant secure coding, secure code review, github, evangelist, thought leader, practice leader, principal consultant, applicati…                   Stanley Reid & Company                                                                                                                       Full Time        Bellevue, WA  2 days ago We have been retained by a global leader in Secure Software to fill an incredibly strategic role for them. They are loo…\n",
      "Principal Application Security Consultant secure coding, secure code review, github, evangelist, thought leader, practice leader, principal consultant, applicati…                   Stanley Reid & Company                                                                                                                       Full Time       Santa Ana, CA  2 days ago We have been retained by a global leader in Secure Software to fill an incredibly strategic role for them. They are loo…\n",
      "                        Sr. Test Engineer Agile, Analysis, Browser, CASE, Database, Development, Diagnostic, Genetic, HTML, JavaScript, Lifecycle, Oracle, PL/SQL… Association of American Medical Colleges                             Contract Corp-To-Corp, Contract Independent, Contract W2, C2H Corp-To-Corp, C2H Independent, C2H W2      Washington, DC 6 hours ago The Association of American Medical Colleges (AAMC) is seeking a Senior Test Engineer to join our team in Washington, D…\n",
      "                        Sr. Test Engineer Agile, Analysis, Browser, CASE, Database, Development, Diagnostic, Genetic, HTML, JavaScript, Lifecycle, Oracle, PL/SQL… Association of American Medical Colleges                             Contract Corp-To-Corp, Contract Independent, Contract W2, C2H Corp-To-Corp, C2H Independent, C2H W2      Washington, DC 7 hours ago The Association of American Medical Colleges (AAMC) is seeking a Senior Test Engineer to join our team in Washington, D…\n",
      "                        Sr. Test Engineer Agile, Analysis, Browser, CASE, Database, Development, Diagnostic, Genetic, HTML, JavaScript, Lifecycle, Oracle, PL/SQL… Association of American Medical Colleges                             Contract Corp-To-Corp, Contract Independent, Contract W2, C2H Corp-To-Corp, C2H Independent, C2H W2      Washington, DC 7 hours ago The Association of American Medical Colleges (AAMC) is seeking a Senior Test Engineer to join our team in Washington, D…\n",
      "\n",
      "=== Duplicate triplet counts ===\n",
      "   count                                     jobdescription  \\\n",
      "0      7  Join the CCP Global team and experience the di...   \n",
      "1      6  DescriptionHands-on Linux backend experience –...   \n",
      "2      5  We have been retained by a global leader in Se...   \n",
      "3      4  Job Order # 11959 Sunnyvale, CAWe currently ha...   \n",
      "4      4  The Association of American Medical Colleges (...   \n",
      "5      4  Software Developer Job Summary: Currently seek...   \n",
      "6      4  Product ManagerLocation: Emeryville, CAJob typ...   \n",
      "7      4  GoAhead Solutions has an immediate need for a ...   \n",
      "8      4  Our client is exclusively focused on DevOps Au...   \n",
      "9      3  Senior Web Application EngineerOur client is t...   \n",
      "\n",
      "                                   jobtitle  \\\n",
      "0                      SAP Ariba Consultant   \n",
      "1       QA Tester with JAVA Linux (w2 only)   \n",
      "2  Principal Application Security Consulta…   \n",
      "3   JAMF Casper Consultant in Sunnyvale, CA   \n",
      "4                         Sr. Test Engineer   \n",
      "5                        Software Developer   \n",
      "6                           Product Manager   \n",
      "7                 Technical Support Analyst   \n",
      "8  AWS DevOps Engineer with Strong Softwar…   \n",
      "9           Senior Web Application Engineer   \n",
      "\n",
      "                                              skills  \n",
      "0  SAP Ariba Consultant, SAP Ariba Consulting, SA...  \n",
      "1                               QA, Java, Linux, FIX  \n",
      "2  secure coding, secure code review, github, eva...  \n",
      "3                                             casper  \n",
      "4  Agile, Analysis, Browser, CASE, Database, Deve...  \n",
      "5  C#/.NET/Web Application/Developer/JSON/Java Sc...  \n",
      "6  Product Manager Financial services Excellent c...  \n",
      "7  Desktop Support Analyst, Mac iOS, Windows OS, ...  \n",
      "8  DevOps, AWS, Hudson, Jenkins, CruiseControl, C...  \n",
      "9         SPA, JavaScript, Angular, React, D3, HTML5  \n"
     ]
    }
   ],
   "source": [
    "# Helper to truncate long text\n",
    "def trunc(s, n=120):\n",
    "    s = \"\" if pd.isna(s) else str(s)\n",
    "    s = \" \".join(s.split())  # collapse whitespace\n",
    "    return (s[: n-1] + \"…\") if len(s) > n else s\n",
    "\n",
    "# Which duplicate groups (by the triplet) are largest?\n",
    "group_sizes = (\n",
    "    df_dups.groupby(signal_cols, dropna=False)\n",
    "           .size()\n",
    "           .sort_values(ascending=False)\n",
    ")\n",
    "K = 5   # show top K duplicate groups\n",
    "M = 3   # show up to M rows per group\n",
    "top_keys = group_sizes.head(K).index\n",
    "\n",
    "# Build a sample from those groups only (max M rows per group)\n",
    "sample_list = []\n",
    "for k in top_keys:\n",
    "    cond = (key_df[signal_cols[0]].eq(k[0]) &\n",
    "            key_df[signal_cols[1]].eq(k[1]) &\n",
    "            key_df[signal_cols[2]].eq(k[2]))\n",
    "    grp_rows = df_d.loc[cond].head(M).copy()\n",
    "    sample_list.append(grp_rows)\n",
    "\n",
    "sample = pd.concat(sample_list, ignore_index=True) if sample_list else pd.DataFrame(columns=df_d.columns)\n",
    "\n",
    "# Tidy/truncate for display\n",
    "for col in [\"jobdescription\", \"skills\"]:\n",
    "    if col in sample.columns:\n",
    "        sample[col] = sample[col].map(lambda x: trunc(x, 120))\n",
    "\n",
    "display_cols = [c for c in [\n",
    "    \"jobtitle\", \"skills\", \"company\", \"employmenttype_jobstatus\",\n",
    "    \"joblocation_address\", \"postdate\", \"jobdescription\"\n",
    "] if c in sample.columns]\n",
    "\n",
    "print(\"=== Sample duplicate groups (formatted, truncated) ===\\n\")\n",
    "print(sample[display_cols].to_string(index=False))\n",
    "# How many times does each duplicate triplet occur?\n",
    "dup_counts = (\n",
    "    df_dups.groupby(signal_cols, dropna=False)\n",
    "              .size()\n",
    "                .reset_index(name=\"count\")\n",
    "                .sort_values(\"count\", ascending=False)\n",
    "                .reset_index(drop=True)\n",
    "                .head(10)\n",
    ")\n",
    "dup_counts[\"jobdescription\"] = dup_counts[\"jobdescription\"].map(lambda x: trunc(x, 80))\n",
    "dup_counts[\"skills\"] = dup_counts[\"skills\"].map(lambda x: trunc(x, 80))\n",
    "dup_counts[\"jobtitle\"] = dup_counts[\"jobtitle\"].map(lambda x: trunc(x, 40))\n",
    "dup_counts = dup_counts[[\"count\"] + signal_cols]\n",
    "# Show top 10 duplicate triplets by frequency\n",
    "print(\"\\n=== Duplicate triplet counts ===\")\n",
    "print(dup_counts.head(10))"
   ]
  },
  {
   "cell_type": "markdown",
   "id": "33dbf98d",
   "metadata": {},
   "source": [
    "3) Remove duplicates (keep the first occurrence), no row increase"
   ]
  },
  {
   "cell_type": "code",
   "execution_count": 8,
   "id": "56aec0ab",
   "metadata": {},
   "outputs": [
    {
     "name": "stdout",
     "output_type": "stream",
     "text": [
      "\n",
      "=== Deduped shape ===\n",
      "(20598, 7)\n"
     ]
    }
   ],
   "source": [
    "# Create a deduplicated dataframe (does not modify df_d unless you assign back)\n",
    "df_d_dedup = df_d.drop_duplicates(subset=signal_cols, keep=\"first\").reset_index(drop=True)\n",
    "\n",
    "print(\"\\n=== Deduped shape ===\")\n",
    "print(df_d_dedup.shape)"
   ]
  },
  {
   "cell_type": "markdown",
   "id": "85d85bce",
   "metadata": {},
   "source": [
    "Saving cleaned files    "
   ]
  },
  {
   "cell_type": "code",
   "execution_count": 12,
   "id": "757b5697",
   "metadata": {},
   "outputs": [
    {
     "name": "stdout",
     "output_type": "stream",
     "text": [
      "Original shape: (22000, 7)\n",
      "Duplicates shape: (2686, 7)\n",
      "Deduped shape: (20598, 7)\n",
      "Files saved in 'prepared' folder:\n",
      "- dice_com_duplicates.csv (only duplicate rows)\n",
      "- dice_com_deduped.csv (original minus duplicates)\n"
     ]
    }
   ],
   "source": [
    "import pandas as pd\n",
    "\n",
    "# Load dataset\n",
    "df_d = pd.read_csv(datasets_folder_path / \"raw/dice_com-job_us_sample.csv\", low_memory=False)\n",
    "\n",
    "signal_cols = [\"jobdescription\", \"jobtitle\", \"skills\"]\n",
    "\n",
    "# --- Detect duplicate rows ---\n",
    "# All members of duplicate groups\n",
    "dup_mask_all = df_d.duplicated(subset=signal_cols, keep=False)\n",
    "df_dups = df_d.loc[dup_mask_all].copy()\n",
    "\n",
    "# Deduplicated dataframe (keep first occurrence)\n",
    "df_d_dedup = df_d.drop_duplicates(subset=signal_cols, keep=\"first\").reset_index(drop=True)\n",
    "\n",
    "print(\"Original shape:\", df_d.shape)\n",
    "print(\"Duplicates shape:\", df_dups.shape)\n",
    "print(\"Deduped shape:\", df_d_dedup.shape)\n",
    "\n",
    "# --- Save to files ---\n",
    "df_dups.to_csv(datasets_folder_path/\"prepared/dice_com_duplicates.csv\", index=False)\n",
    "df_d_dedup.to_csv(datasets_folder_path/\"prepared/dice_com_deduped.csv\", index=False)\n",
    "\n",
    "print(\"Files saved in 'prepared' folder:\")\n",
    "print(\"- dice_com_duplicates.csv (only duplicate rows)\")\n",
    "print(\"- dice_com_deduped.csv (original minus duplicates)\")"
   ]
  },
  {
   "cell_type": "markdown",
   "id": "f4610f05",
   "metadata": {},
   "source": [
    "🔎 Step 2.3 — Textual column length sanity checks\n",
    "\n",
    "Core text fields here: skills, jobdescription."
   ]
  },
  {
   "cell_type": "code",
   "execution_count": 10,
   "id": "297cdf6b",
   "metadata": {},
   "outputs": [
    {
     "name": "stdout",
     "output_type": "stream",
     "text": [
      "=== Text Column Length Stats (Dice.com) ===\n",
      "                num_rows  num_missing  num_empty  min_len  max_len     mean_len  median_len  pct_empty\n",
      "skills           22000.0         43.0        0.0      1.0   3544.0    74.692136        55.0        0.0\n",
      "jobdescription   22000.0          0.0        0.0      4.0  24382.0  2295.370864      2012.5        0.0\n"
     ]
    }
   ],
   "source": [
    "# STEP 2.3 — Text column length stats for Dice.com dataset\n",
    "text_cols = [\"skills\", \"jobdescription\"]\n",
    "\n",
    "def text_len_report(frame, cols):\n",
    "    out = {}\n",
    "    for col in cols:\n",
    "        s = frame[col].astype(str).fillna(\"\")\n",
    "        lens = s.str.len()\n",
    "        out[col] = {\n",
    "            \"num_rows\": len(s),\n",
    "            \"num_missing\": frame[col].isna().sum(),\n",
    "            \"num_empty\": int((s.eq(\"\") | s.str.strip().eq(\"\")).sum()),\n",
    "            \"min_len\": int(lens.min()),\n",
    "            \"max_len\": int(lens.max()),\n",
    "            \"mean_len\": float(lens.mean()),\n",
    "            \"median_len\": float(lens.median()),\n",
    "            \"pct_empty\": round(100 * (s.eq(\"\") | s.str.strip().eq(\"\")).mean(), 2),\n",
    "        }\n",
    "    return pd.DataFrame(out).T.sort_values(\"pct_empty\", ascending=False)\n",
    "\n",
    "text_stats_d = text_len_report(df_d, text_cols)\n",
    "print(\"=== Text Column Length Stats (Dice.com) ===\")\n",
    "print(text_stats_d.to_string())\n"
   ]
  },
  {
   "cell_type": "markdown",
   "id": "45be2769",
   "metadata": {},
   "source": [
    "🔎 Step 2.4 — Numeric sanity check (salary not present)"
   ]
  },
  {
   "cell_type": "code",
   "execution_count": 11,
   "id": "8db1bfdd",
   "metadata": {},
   "outputs": [
    {
     "name": "stdout",
     "output_type": "stream",
     "text": [
      "No Salary_Numeric column in Dice.com dataset → skipping salary stats.\n"
     ]
    }
   ],
   "source": [
    "# STEP 2.4 — Numeric salary check (Dice.com)\n",
    "if \"Salary_Numeric\" in df_d.columns:\n",
    "    print(\"Salary_Numeric exists, run numeric stats like Morocco.\")\n",
    "else:\n",
    "    print(\"No Salary_Numeric column in Dice.com dataset → skipping salary stats.\")"
   ]
  }
 ],
 "metadata": {
  "kernelspec": {
   "display_name": "venv",
   "language": "python",
   "name": "python3"
  },
  "language_info": {
   "codemirror_mode": {
    "name": "ipython",
    "version": 3
   },
   "file_extension": ".py",
   "mimetype": "text/x-python",
   "name": "python",
   "nbconvert_exporter": "python",
   "pygments_lexer": "ipython3",
   "version": "3.11.2"
  }
 },
 "nbformat": 4,
 "nbformat_minor": 5
}
